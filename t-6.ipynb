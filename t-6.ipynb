{
 "cells": [
  {
   "cell_type": "code",
   "execution_count": 61,
   "id": "20b03d99",
   "metadata": {},
   "outputs": [],
   "source": [
    "import nltk\n",
    "from nltk.tokenize import word_tokenize\n",
    "from nltk.corpus import stopwords\n",
    "import string"
   ]
  },
  {
   "cell_type": "code",
   "execution_count": 62,
   "id": "267a235b",
   "metadata": {},
   "outputs": [
    {
     "name": "stderr",
     "output_type": "stream",
     "text": [
      "[nltk_data] Downloading package stopwords to\n",
      "[nltk_data]     C:\\Users\\PC\\AppData\\Roaming\\nltk_data...\n",
      "[nltk_data]   Package stopwords is already up-to-date!\n"
     ]
    }
   ],
   "source": [
    "# Загрузка стоп-слов\n",
    "nltk.download('stopwords')\n",
    "stop_words = set(stopwords.words('russian'))"
   ]
  },
  {
   "cell_type": "code",
   "execution_count": 63,
   "id": "a6582c64",
   "metadata": {},
   "outputs": [],
   "source": [
    "with open('data/PUSHKINS.TXT', 'r', encoding='windows-1251') as file:\n",
    "    text = file.read()"
   ]
  },
  {
   "cell_type": "raw",
   "id": "eac5fbee",
   "metadata": {},
   "source": [
    "Разбиение текста на слова и обработка"
   ]
  },
  {
   "cell_type": "code",
   "execution_count": 64,
   "id": "03e368d8",
   "metadata": {},
   "outputs": [],
   "source": [
    "words = [word.lower() for word in word_tokenize(text) if word.isalpha()]"
   ]
  },
  {
   "cell_type": "raw",
   "id": "4435bf86",
   "metadata": {},
   "source": [
    "Подсчет общего количества слов"
   ]
  },
  {
   "cell_type": "code",
   "execution_count": 65,
   "id": "ba737054",
   "metadata": {},
   "outputs": [
    {
     "data": {
      "text/plain": [
       "263227"
      ]
     },
     "execution_count": 65,
     "metadata": {},
     "output_type": "execute_result"
    }
   ],
   "source": [
    "total_words = len(words)\n",
    "total_words"
   ]
  },
  {
   "cell_type": "raw",
   "id": "86100e57",
   "metadata": {},
   "source": [
    "Подсчет уникальных слов"
   ]
  },
  {
   "cell_type": "code",
   "execution_count": 66,
   "id": "1ab78b55",
   "metadata": {},
   "outputs": [
    {
     "data": {
      "text/plain": [
       "45915"
      ]
     },
     "execution_count": 66,
     "metadata": {},
     "output_type": "execute_result"
    }
   ],
   "source": [
    "unique_words = len(set(words))\n",
    "unique_words"
   ]
  },
  {
   "cell_type": "raw",
   "id": "7e096c06",
   "metadata": {},
   "source": [
    "Удаление стоп-слов"
   ]
  },
  {
   "cell_type": "code",
   "execution_count": 67,
   "id": "1f7df3f8",
   "metadata": {},
   "outputs": [],
   "source": [
    "filtered_words = [word for word in words if word not in stop_words]"
   ]
  },
  {
   "cell_type": "raw",
   "id": "73355a36",
   "metadata": {},
   "source": [
    "Подсчет количества слов после удаления стоп-слов"
   ]
  },
  {
   "cell_type": "code",
   "execution_count": 68,
   "id": "f4ee2039",
   "metadata": {},
   "outputs": [
    {
     "data": {
      "text/plain": [
       "175298"
      ]
     },
     "execution_count": 68,
     "metadata": {},
     "output_type": "execute_result"
    }
   ],
   "source": [
    "filtered_total_words = len(filtered_words)\n",
    "filtered_total_words\n"
   ]
  },
  {
   "cell_type": "code",
   "execution_count": 69,
   "id": "2f2d4ea6",
   "metadata": {},
   "outputs": [
    {
     "data": {
      "text/plain": [
       "45764"
      ]
     },
     "execution_count": 69,
     "metadata": {},
     "output_type": "execute_result"
    }
   ],
   "source": [
    "filtered_unique_words = len(set(filtered_words))\n",
    "filtered_unique_words"
   ]
  },
  {
   "cell_type": "code",
   "execution_count": null,
   "id": "fa8a94e2",
   "metadata": {},
   "outputs": [],
   "source": []
  }
 ],
 "metadata": {
  "kernelspec": {
   "display_name": "Python 3 (ipykernel)",
   "language": "python",
   "name": "python3"
  },
  "language_info": {
   "codemirror_mode": {
    "name": "ipython",
    "version": 3
   },
   "file_extension": ".py",
   "mimetype": "text/x-python",
   "name": "python",
   "nbconvert_exporter": "python",
   "pygments_lexer": "ipython3",
   "version": "3.9.12"
  }
 },
 "nbformat": 4,
 "nbformat_minor": 5
}
