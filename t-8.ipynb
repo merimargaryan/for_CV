{
 "cells": [
  {
   "cell_type": "code",
   "execution_count": 3,
   "id": "ba9fcd2e",
   "metadata": {},
   "outputs": [
    {
     "name": "stdout",
     "output_type": "stream",
     "text": [
      "Результат для 1: 2\n",
      "Результат для 2: 4\n",
      "Результат для 3: 6\n",
      "Результат для 4: 8\n",
      "Результат для 5: 10\n"
     ]
    }
   ],
   "source": [
    "#Маргарян Мери Аршаковна\n",
    "#v5\n",
    "\n",
    "\n",
    "import threading\n",
    "\n",
    "# Функция, которую будут выполнять потоки\n",
    "def worker_function(number):\n",
    "    result = number * 2\n",
    "    print(f\"Результат для {number}: {result}\")\n",
    "\n",
    "if __name__ == \"__main__\":\n",
    "    # Создаем список аргументов для функции\n",
    "    numbers = [1, 2, 3, 4, 5]\n",
    "\n",
    "    # Создаем список потоков для выполнения функции\n",
    "    threads = []\n",
    "\n",
    "    # Запускаем функцию worker_function для каждого элемента в списке numbers\n",
    "    for number in numbers:\n",
    "        thread = threading.Thread(target=worker_function, args=(number,))\n",
    "        threads.append(thread)\n",
    "        thread.start()\n",
    "\n",
    "    # Ожидаем завершения всех потоков\n",
    "    for thread in threads:\n",
    "        thread.join()\n",
    "\n",
    "# Комментарии:\n",
    "# - Мы используем библиотеку threading для создания и управления потоками.\n",
    "# - Функция worker_function выполняется параллельно для каждого элемента списка numbers.\n",
    "# - Мы создаем и запускаем потоки для выполнения функции, а затем ожидаем их завершения"
   ]
  },
  {
   "cell_type": "code",
   "execution_count": null,
   "id": "33e2d0d7",
   "metadata": {},
   "outputs": [],
   "source": []
  },
  {
   "cell_type": "code",
   "execution_count": null,
   "id": "05fa5a4c",
   "metadata": {},
   "outputs": [],
   "source": []
  }
 ],
 "metadata": {
  "kernelspec": {
   "display_name": "Python 3 (ipykernel)",
   "language": "python",
   "name": "python3"
  },
  "language_info": {
   "codemirror_mode": {
    "name": "ipython",
    "version": 3
   },
   "file_extension": ".py",
   "mimetype": "text/x-python",
   "name": "python",
   "nbconvert_exporter": "python",
   "pygments_lexer": "ipython3",
   "version": "3.9.12"
  }
 },
 "nbformat": 4,
 "nbformat_minor": 5
}
