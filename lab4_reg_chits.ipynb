{
 "cells": [
  {
   "cell_type": "code",
   "execution_count": 12,
   "id": "193529cf",
   "metadata": {},
   "outputs": [],
   "source": [
    "import pandas as pd\n",
    "from sklearn import linear_model\n",
    "\n",
    "# Загрузка датасетов\n",
    "X = pd.read_csv('data/1_x.csv', header=None)\n",
    "Y = pd.read_csv('data/1_y.csv', header=None)"
   ]
  },
  {
   "cell_type": "code",
   "execution_count": 13,
   "id": "ee8dc835",
   "metadata": {},
   "outputs": [
    {
     "name": "stdout",
     "output_type": "stream",
     "text": [
      "Количество точек данных: 98041\n",
      "Количество признаков: 1\n",
      "Статистика по каждому признаку:\n",
      "                  0\n",
      "count  98041.000000\n",
      "mean       1.372231\n",
      "std      307.181475\n",
      "min    -1271.336670\n",
      "25%     -205.125738\n",
      "50%        1.223641\n",
      "75%      208.823801\n",
      "max     1383.040152\n"
     ]
    }
   ],
   "source": [
    "# Количество точек данных\n",
    "num_points = len(X)\n",
    "\n",
    "# Количество признаков\n",
    "num_features = X.shape[1]\n",
    "\n",
    "# Статистика по каждому признаку\n",
    "statistics = X.describe()\n",
    "\n",
    "print(f\"Количество точек данных: {num_points}\")\n",
    "print(f\"Количество признаков: {num_features}\")\n",
    "print(\"Статистика по каждому признаку:\")\n",
    "print(statistics)"
   ]
  },
  {
   "cell_type": "code",
   "execution_count": 14,
   "id": "4d700d84",
   "metadata": {},
   "outputs": [],
   "source": [
    "from sklearn.model_selection import train_test_split"
   ]
  },
  {
   "cell_type": "code",
   "execution_count": 15,
   "id": "17b40ab0",
   "metadata": {},
   "outputs": [],
   "source": [
    "# Разделение на обучающую и тестовую выборки\n",
    "X_train, X_test, Y_train, Y_test = train_test_split(X, Y, test_size=0.2, random_state=42)"
   ]
  },
  {
   "cell_type": "code",
   "execution_count": 16,
   "id": "4f46c381",
   "metadata": {},
   "outputs": [
    {
     "name": "stdout",
     "output_type": "stream",
     "text": [
      "Коэффициент для признака 1: [1.]\n"
     ]
    },
    {
     "data": {
      "image/png": "[encoded data removed]",
      "text/plain": [
       "<Figure size 432x288 with 1 Axes>"
      ]
     },
     "metadata": {
      "needs_background": "light"
     },
     "output_type": "display_data"
    }
   ],
   "source": [
    "import matplotlib.pyplot as plt\n",
    "\n",
    "# Построение парных регрессионных моделей\n",
    "for i in range(num_features):\n",
    "    # Создание пустой модели\n",
    "    reg = linear_model.LinearRegression()\n",
    "    \n",
    "    # Обучение модели\n",
    "    reg.fit(X_train.iloc[:, i].values.reshape(-1, 1), Y_train)\n",
    "    \n",
    "    # Получение коэффициентов\n",
    "    coef = reg.coef_\n",
    "    print(f\"Коэффициент для признака {i+1}: {coef[0]}\")\n",
    "    \n",
    "    # Предсказание значений\n",
    "    predicted = reg.predict(X_test.iloc[:, i].values.reshape(-1, 1))\n",
    "    \n",
    "    # Визуализация линии регрессии и исходных данных\n",
    "    plt.scatter(X_test.iloc[:, i], Y_test, color='blue', label='Исходные данные')\n",
    "    plt.plot(X_test.iloc[:, i], predicted, color='red', linewidth=2, label='Линия регрессии')\n",
    "    plt.xlabel(f\"Признак {i+1}\")\n",
    "    plt.ylabel(\"Целевая переменная\")\n",
    "    plt.legend()\n",
    "    plt.show()"
   ]
  },
  {
   "cell_type": "code",
   "execution_count": 17,
   "id": "2b4966fa",
   "metadata": {},
   "outputs": [
    {
     "name": "stdout",
     "output_type": "stream",
     "text": [
      "Коэффициенты:\n",
      "b1: 0.9999999999999983\n",
      "R2-критерий эффективности: 1.0\n"
     ]
    }
   ],
   "source": [
    "# Создание пустой модели\n",
    "reg = linear_model.LinearRegression()\n",
    "\n",
    "# Обучение модели\n",
    "reg.fit(X_train, Y_train)\n",
    "\n",
    "# Коэффициенты\n",
    "coef = reg.coef_\n",
    "print(\"Коэффициенты:\")\n",
    "for i in range(num_features):\n",
    "    print(f\"b{i+1}: {coef[0][i]}\")\n",
    "\n",
    "# Оценка качества регрессии\n",
    "score = reg.score(X_test, Y_test)\n",
    "print(f\"R2-критерий эффективности: {score}\")\n"
   ]
  },
  {
   "cell_type": "code",
   "execution_count": null,
   "id": "861d5650",
   "metadata": {},
   "outputs": [],
   "source": []
  }
 ],
 "metadata": {
  "kernelspec": {
   "display_name": "Python 3 (ipykernel)",
   "language": "python",
   "name": "python3"
  },
  "language_info": {
   "codemirror_mode": {
    "name": "ipython",
    "version": 3
   },
   "file_extension": ".py",
   "mimetype": "text/x-python",
   "name": "python",
   "nbconvert_exporter": "python",
   "pygments_lexer": "ipython3",
   "version": "3.9.12"
  }
 },
 "nbformat": 4,
 "nbformat_minor": 5
}
